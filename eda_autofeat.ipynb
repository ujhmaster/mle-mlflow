{
 "cells": [
  {
   "cell_type": "code",
   "execution_count": 27,
   "metadata": {},
   "outputs": [],
   "source": [
    "import os\n",
    "\n",
    "import pandas as pd\n",
    "import mlflow\n",
    "from sklearn.compose import ColumnTransformer\n",
    "from sklearn.pipeline import Pipeline\n",
    "from sklearn.preprocessing import (\n",
    "    OneHotEncoder, \n",
    "    SplineTransformer, \n",
    "    QuantileTransformer, \n",
    "    RobustScaler,\n",
    "    PolynomialFeatures,\n",
    "    KBinsDiscretizer,\n",
    ")\n",
    "\n",
    "TABLE_NAME = \"clean_users_churn\"\n",
    "\n",
    "TRACKING_SERVER_HOST = \"127.0.0.1\"\n",
    "TRACKING_SERVER_PORT = 5000\n",
    "\n",
    "EXPERIMENT_NAME = 'churn_ujhmaster'\n",
    "RUN_NAME = \"autofeat\" \n",
    "REGISTRY_MODEL_NAME = 'churn_model_ujhmaster_autofeat'"
   ]
  },
  {
   "cell_type": "code",
   "execution_count": 2,
   "metadata": {},
   "outputs": [],
   "source": [
    "import psycopg2 as psycopg\n",
    "connection = {\"sslmode\": \"require\", \"target_session_attrs\": \"read-write\"}\n",
    "postgres_credentials = {\n",
    "    \"host\": os.environ.get(\"DB_DESTINATION_HOST\"), \n",
    "    \"port\": os.environ.get(\"DB_DESTINATION_PORT\"),\n",
    "    \"dbname\": os.environ.get(\"DB_DESTINATION_NAME\"),\n",
    "    \"user\": os.environ.get(\"DB_DESTINATION_USER\"),\n",
    "    \"password\": os.environ.get(\"DB_DESTINATION_PASSWORD\"),\n",
    "}\n",
    "assert all([var_value != \"\" for var_value in list(postgres_credentials.values())])\n",
    "\n",
    "connection.update(postgres_credentials)\n",
    "with psycopg.connect(**connection) as conn:\n",
    "\n",
    "    with conn.cursor() as cur:\n",
    "        cur.execute(f\"SELECT * FROM {TABLE_NAME}\")\n",
    "        data = cur.fetchall()\n",
    "        columns = [col[0] for col in cur.description]\n",
    "\n",
    "df = pd.DataFrame(data, columns=columns)"
   ]
  },
  {
   "cell_type": "code",
   "execution_count": 3,
   "metadata": {},
   "outputs": [
    {
     "data": {
      "text/plain": [
       "Index(['id', 'customer_id', 'begin_date', 'end_date', 'type',\n",
       "       'paperless_billing', 'payment_method', 'monthly_charges',\n",
       "       'total_charges', 'internet_service', 'online_security', 'online_backup',\n",
       "       'device_protection', 'tech_support', 'streaming_tv', 'streaming_movies',\n",
       "       'gender', 'senior_citizen', 'partner', 'dependents', 'multiple_lines',\n",
       "       'target'],\n",
       "      dtype='object')"
      ]
     },
     "execution_count": 3,
     "metadata": {},
     "output_type": "execute_result"
    }
   ],
   "source": [
    "df.columns"
   ]
  },
  {
   "cell_type": "code",
   "execution_count": 4,
   "metadata": {},
   "outputs": [],
   "source": [
    "features = ['begin_date','type',\n",
    "       'paperless_billing', 'payment_method', 'monthly_charges',\n",
    "       'total_charges', 'internet_service', 'online_security', 'online_backup',\n",
    "       'device_protection', 'tech_support', 'streaming_tv', 'streaming_movies',\n",
    "       'gender', 'senior_citizen', 'partner', 'dependents', 'multiple_lines']\n",
    "target = ['target']"
   ]
  },
  {
   "cell_type": "code",
   "execution_count": 6,
   "metadata": {},
   "outputs": [],
   "source": [
    "from sklearn.model_selection import train_test_split\n",
    "\n",
    "split_column = \"begin_date\"\n",
    "test_size = 0.2\n",
    "\n",
    "df = df.sort_values(by=[split_column])\n",
    "\n",
    "X_train, X_test, y_train, y_test = train_test_split(\n",
    "    df[features],\n",
    "    df[target],\n",
    "    test_size=test_size,\n",
    "    shuffle=False,\n",
    ") "
   ]
  },
  {
   "cell_type": "code",
   "execution_count": 7,
   "metadata": {},
   "outputs": [],
   "source": [
    "from autofeat import AutoFeatClassifier"
   ]
  },
  {
   "cell_type": "code",
   "execution_count": 12,
   "metadata": {},
   "outputs": [
    {
     "name": "stderr",
     "output_type": "stream",
     "text": [
      "/home/mle-user/mle_projects/mle-mlflow/.venv_mlflow/lib/python3.10/site-packages/sklearn/utils/validation.py:1183: DataConversionWarning: A column-vector y was passed when a 1d array was expected. Please change the shape of y to (n_samples, ), for example using ravel().\n",
      "  y = column_or_1d(y, warn=True)\n"
     ]
    }
   ],
   "source": [
    "cat_features = [\n",
    "    'paperless_billing',\n",
    "    'payment_method',\n",
    "    'internet_service',\n",
    "    'online_security',\n",
    "    'online_backup',\n",
    "    'device_protection',\n",
    "    'tech_support',\n",
    "    'streaming_tv',\n",
    "    'streaming_movies',\n",
    "    'gender',\n",
    "    'senior_citizen',\n",
    "    'partner',\n",
    "    'dependents',\n",
    "    'multiple_lines',\n",
    "]\n",
    "num_features = [\"monthly_charges\", \"total_charges\"]\n",
    "\n",
    "features = cat_features + num_features\n",
    "\n",
    "transformations = [\"1/\",\"log\", \"abs\", \"sqrt\"]\n",
    "\n",
    "afc = AutoFeatClassifier(\n",
    "    categorical_cols = cat_features,\n",
    "    #feateng_cols = num_features,\n",
    "    feateng_steps=1,\n",
    "    max_gb=1,\n",
    "    transformations = transformations,\n",
    "    n_jobs=-1\n",
    ")\n",
    "\n",
    "X_train_features = afc.fit_transform(X_train[features],y_train)\n",
    "X_test_features = afc.transform(X_test[features])"
   ]
  },
  {
   "cell_type": "code",
   "execution_count": 14,
   "metadata": {},
   "outputs": [
    {
     "data": {
      "text/plain": [
       "Index(['monthly_charges', 'total_charges', 'cat_paperless_billing_No',\n",
       "       'cat_paperless_billing_Yes',\n",
       "       'cat_payment_method_Bank transfer (automatic)',\n",
       "       'cat_payment_method_Credit card (automatic)',\n",
       "       'cat_payment_method_Electronic check',\n",
       "       'cat_payment_method_Mailed check', 'cat_internet_service_DSL',\n",
       "       'cat_internet_service_Fiber optic', 'cat_online_security_No',\n",
       "       'cat_online_security_Yes', 'cat_online_backup_No',\n",
       "       'cat_online_backup_Yes', 'cat_device_protection_No',\n",
       "       'cat_device_protection_Yes', 'cat_tech_support_No',\n",
       "       'cat_tech_support_Yes', 'cat_streaming_tv_No', 'cat_streaming_tv_Yes',\n",
       "       'cat_streaming_movies_No', 'cat_streaming_movies_Yes',\n",
       "       'cat_gender_Female', 'cat_gender_Male', 'cat_senior_citizen_0',\n",
       "       'cat_senior_citizen_1', 'cat_partner_No', 'cat_partner_Yes',\n",
       "       'cat_dependents_No', 'cat_dependents_Yes', 'cat_multiple_lines_No',\n",
       "       'cat_multiple_lines_Yes'],\n",
       "      dtype='object')"
      ]
     },
     "execution_count": 14,
     "metadata": {},
     "output_type": "execute_result"
    }
   ],
   "source": [
    "X_train_features.columns"
   ]
  },
  {
   "cell_type": "code",
   "execution_count": 20,
   "metadata": {},
   "outputs": [],
   "source": [
    "import mlflow\n",
    "\n",
    "os.environ['MLFLOW_S3_ENDPOINT_URL']='https://storage.yandexcloud.net'\n",
    "os.environ['AWS_BUCKET_NAME']=os.environ.get(\"S3_BUCKET_NAME\")\n",
    "\n",
    "TRACKING_SERVER_HOST = \"127.0.0.1\"\n",
    "TRACKING_SERVER_PORT = 5000\n",
    "mlflow.set_tracking_uri(f\"http://{TRACKING_SERVER_HOST}:{TRACKING_SERVER_PORT}\")\n",
    "mlflow.set_registry_uri(f\"http://{TRACKING_SERVER_HOST}:{TRACKING_SERVER_PORT}\")\n",
    "\n"
   ]
  },
  {
   "cell_type": "code",
   "execution_count": 21,
   "metadata": {},
   "outputs": [
    {
     "data": {
      "text/plain": [
       "'11a58a00e1d44806865424aeda268343'"
      ]
     },
     "execution_count": 21,
     "metadata": {},
     "output_type": "execute_result"
    }
   ],
   "source": [
    "artifact_path = \"afc\"\n",
    "experiment_id = mlflow.get_experiment_by_name(EXPERIMENT_NAME).experiment_id\n",
    "\n",
    "with mlflow.start_run(run_name=RUN_NAME, experiment_id=experiment_id) as run:\n",
    "    run_id = run.info.run_id\n",
    "    \n",
    "    afc_info = mlflow.sklearn.log_model(afc, artifact_path=artifact_path)\n",
    "\n",
    "\n",
    "run_id"
   ]
  },
  {
   "cell_type": "code",
   "execution_count": 23,
   "metadata": {},
   "outputs": [
    {
     "name": "stderr",
     "output_type": "stream",
     "text": [
      "/home/mle-user/mle_projects/mle-mlflow/.venv_mlflow/lib/python3.10/site-packages/sklearn/utils/validation.py:1183: DataConversionWarning: A column-vector y was passed when a 1d array was expected. Please change the shape of y to (n_samples, ), for example using ravel().\n",
      "  y = column_or_1d(y, warn=True)\n",
      "/home/mle-user/mle_projects/mle-mlflow/.venv_mlflow/lib/python3.10/site-packages/sklearn/utils/validation.py:1183: DataConversionWarning: A column-vector y was passed when a 1d array was expected. Please change the shape of y to (n_samples, ), for example using ravel().\n",
      "  y = column_or_1d(y, warn=True)\n"
     ]
    },
    {
     "data": {
      "text/html": [
       "<style>#sk-container-id-1 {color: black;}#sk-container-id-1 pre{padding: 0;}#sk-container-id-1 div.sk-toggleable {background-color: white;}#sk-container-id-1 label.sk-toggleable__label {cursor: pointer;display: block;width: 100%;margin-bottom: 0;padding: 0.3em;box-sizing: border-box;text-align: center;}#sk-container-id-1 label.sk-toggleable__label-arrow:before {content: \"▸\";float: left;margin-right: 0.25em;color: #696969;}#sk-container-id-1 label.sk-toggleable__label-arrow:hover:before {color: black;}#sk-container-id-1 div.sk-estimator:hover label.sk-toggleable__label-arrow:before {color: black;}#sk-container-id-1 div.sk-toggleable__content {max-height: 0;max-width: 0;overflow: hidden;text-align: left;background-color: #f0f8ff;}#sk-container-id-1 div.sk-toggleable__content pre {margin: 0.2em;color: black;border-radius: 0.25em;background-color: #f0f8ff;}#sk-container-id-1 input.sk-toggleable__control:checked~div.sk-toggleable__content {max-height: 200px;max-width: 100%;overflow: auto;}#sk-container-id-1 input.sk-toggleable__control:checked~label.sk-toggleable__label-arrow:before {content: \"▾\";}#sk-container-id-1 div.sk-estimator input.sk-toggleable__control:checked~label.sk-toggleable__label {background-color: #d4ebff;}#sk-container-id-1 div.sk-label input.sk-toggleable__control:checked~label.sk-toggleable__label {background-color: #d4ebff;}#sk-container-id-1 input.sk-hidden--visually {border: 0;clip: rect(1px 1px 1px 1px);clip: rect(1px, 1px, 1px, 1px);height: 1px;margin: -1px;overflow: hidden;padding: 0;position: absolute;width: 1px;}#sk-container-id-1 div.sk-estimator {font-family: monospace;background-color: #f0f8ff;border: 1px dotted black;border-radius: 0.25em;box-sizing: border-box;margin-bottom: 0.5em;}#sk-container-id-1 div.sk-estimator:hover {background-color: #d4ebff;}#sk-container-id-1 div.sk-parallel-item::after {content: \"\";width: 100%;border-bottom: 1px solid gray;flex-grow: 1;}#sk-container-id-1 div.sk-label:hover label.sk-toggleable__label {background-color: #d4ebff;}#sk-container-id-1 div.sk-serial::before {content: \"\";position: absolute;border-left: 1px solid gray;box-sizing: border-box;top: 0;bottom: 0;left: 50%;z-index: 0;}#sk-container-id-1 div.sk-serial {display: flex;flex-direction: column;align-items: center;background-color: white;padding-right: 0.2em;padding-left: 0.2em;position: relative;}#sk-container-id-1 div.sk-item {position: relative;z-index: 1;}#sk-container-id-1 div.sk-parallel {display: flex;align-items: stretch;justify-content: center;background-color: white;position: relative;}#sk-container-id-1 div.sk-item::before, #sk-container-id-1 div.sk-parallel-item::before {content: \"\";position: absolute;border-left: 1px solid gray;box-sizing: border-box;top: 0;bottom: 0;left: 50%;z-index: -1;}#sk-container-id-1 div.sk-parallel-item {display: flex;flex-direction: column;z-index: 1;position: relative;background-color: white;}#sk-container-id-1 div.sk-parallel-item:first-child::after {align-self: flex-end;width: 50%;}#sk-container-id-1 div.sk-parallel-item:last-child::after {align-self: flex-start;width: 50%;}#sk-container-id-1 div.sk-parallel-item:only-child::after {width: 0;}#sk-container-id-1 div.sk-dashed-wrapped {border: 1px dashed gray;margin: 0 0.4em 0.5em 0.4em;box-sizing: border-box;padding-bottom: 0.4em;background-color: white;}#sk-container-id-1 div.sk-label label {font-family: monospace;font-weight: bold;display: inline-block;line-height: 1.2em;}#sk-container-id-1 div.sk-label-container {text-align: center;}#sk-container-id-1 div.sk-container {/* jupyter's `normalize.less` sets `[hidden] { display: none; }` but bootstrap.min.css set `[hidden] { display: none !important; }` so we also need the `!important` here to be able to override the default hidden behavior on the sphinx rendered scikit-learn.org. See: https://github.com/scikit-learn/scikit-learn/issues/21755 */display: inline-block !important;position: relative;}#sk-container-id-1 div.sk-text-repr-fallback {display: none;}</style><div id=\"sk-container-id-1\" class=\"sk-top-container\"><div class=\"sk-text-repr-fallback\"><pre>Pipeline(steps=[(&#x27;preprocessor&#x27;,\n",
       "                 AutoFeatClassifier(categorical_cols=[&#x27;paperless_billing&#x27;,\n",
       "                                                      &#x27;payment_method&#x27;,\n",
       "                                                      &#x27;internet_service&#x27;,\n",
       "                                                      &#x27;online_security&#x27;,\n",
       "                                                      &#x27;online_backup&#x27;,\n",
       "                                                      &#x27;device_protection&#x27;,\n",
       "                                                      &#x27;tech_support&#x27;,\n",
       "                                                      &#x27;streaming_tv&#x27;,\n",
       "                                                      &#x27;streaming_movies&#x27;,\n",
       "                                                      &#x27;gender&#x27;,\n",
       "                                                      &#x27;senior_citizen&#x27;,\n",
       "                                                      &#x27;partner&#x27;, &#x27;dependents&#x27;,\n",
       "                                                      &#x27;multiple_lines&#x27;],\n",
       "                                    feateng_steps=1, max_gb=1, n_jobs=-1,\n",
       "                                    transformations=[&#x27;log&#x27;, &#x27;abs&#x27;, &#x27;sqrt&#x27;, &#x27;1+&#x27;,\n",
       "                                                     &#x27;exp-&#x27;])),\n",
       "                (&#x27;model&#x27;, LogisticRegression(C=0.2))])</pre><b>In a Jupyter environment, please rerun this cell to show the HTML representation or trust the notebook. <br />On GitHub, the HTML representation is unable to render, please try loading this page with nbviewer.org.</b></div><div class=\"sk-container\" hidden><div class=\"sk-item sk-dashed-wrapped\"><div class=\"sk-label-container\"><div class=\"sk-label sk-toggleable\"><input class=\"sk-toggleable__control sk-hidden--visually\" id=\"sk-estimator-id-1\" type=\"checkbox\" ><label for=\"sk-estimator-id-1\" class=\"sk-toggleable__label sk-toggleable__label-arrow\">Pipeline</label><div class=\"sk-toggleable__content\"><pre>Pipeline(steps=[(&#x27;preprocessor&#x27;,\n",
       "                 AutoFeatClassifier(categorical_cols=[&#x27;paperless_billing&#x27;,\n",
       "                                                      &#x27;payment_method&#x27;,\n",
       "                                                      &#x27;internet_service&#x27;,\n",
       "                                                      &#x27;online_security&#x27;,\n",
       "                                                      &#x27;online_backup&#x27;,\n",
       "                                                      &#x27;device_protection&#x27;,\n",
       "                                                      &#x27;tech_support&#x27;,\n",
       "                                                      &#x27;streaming_tv&#x27;,\n",
       "                                                      &#x27;streaming_movies&#x27;,\n",
       "                                                      &#x27;gender&#x27;,\n",
       "                                                      &#x27;senior_citizen&#x27;,\n",
       "                                                      &#x27;partner&#x27;, &#x27;dependents&#x27;,\n",
       "                                                      &#x27;multiple_lines&#x27;],\n",
       "                                    feateng_steps=1, max_gb=1, n_jobs=-1,\n",
       "                                    transformations=[&#x27;log&#x27;, &#x27;abs&#x27;, &#x27;sqrt&#x27;, &#x27;1+&#x27;,\n",
       "                                                     &#x27;exp-&#x27;])),\n",
       "                (&#x27;model&#x27;, LogisticRegression(C=0.2))])</pre></div></div></div><div class=\"sk-serial\"><div class=\"sk-item\"><div class=\"sk-estimator sk-toggleable\"><input class=\"sk-toggleable__control sk-hidden--visually\" id=\"sk-estimator-id-2\" type=\"checkbox\" ><label for=\"sk-estimator-id-2\" class=\"sk-toggleable__label sk-toggleable__label-arrow\">AutoFeatClassifier</label><div class=\"sk-toggleable__content\"><pre>AutoFeatClassifier(categorical_cols=[&#x27;paperless_billing&#x27;, &#x27;payment_method&#x27;,\n",
       "                                     &#x27;internet_service&#x27;, &#x27;online_security&#x27;,\n",
       "                                     &#x27;online_backup&#x27;, &#x27;device_protection&#x27;,\n",
       "                                     &#x27;tech_support&#x27;, &#x27;streaming_tv&#x27;,\n",
       "                                     &#x27;streaming_movies&#x27;, &#x27;gender&#x27;,\n",
       "                                     &#x27;senior_citizen&#x27;, &#x27;partner&#x27;, &#x27;dependents&#x27;,\n",
       "                                     &#x27;multiple_lines&#x27;],\n",
       "                   feateng_steps=1, max_gb=1, n_jobs=-1,\n",
       "                   transformations=[&#x27;log&#x27;, &#x27;abs&#x27;, &#x27;sqrt&#x27;, &#x27;1+&#x27;, &#x27;exp-&#x27;])</pre></div></div></div><div class=\"sk-item\"><div class=\"sk-estimator sk-toggleable\"><input class=\"sk-toggleable__control sk-hidden--visually\" id=\"sk-estimator-id-3\" type=\"checkbox\" ><label for=\"sk-estimator-id-3\" class=\"sk-toggleable__label sk-toggleable__label-arrow\">LogisticRegression</label><div class=\"sk-toggleable__content\"><pre>LogisticRegression(C=0.2)</pre></div></div></div></div></div></div></div>"
      ],
      "text/plain": [
       "Pipeline(steps=[('preprocessor',\n",
       "                 AutoFeatClassifier(categorical_cols=['paperless_billing',\n",
       "                                                      'payment_method',\n",
       "                                                      'internet_service',\n",
       "                                                      'online_security',\n",
       "                                                      'online_backup',\n",
       "                                                      'device_protection',\n",
       "                                                      'tech_support',\n",
       "                                                      'streaming_tv',\n",
       "                                                      'streaming_movies',\n",
       "                                                      'gender',\n",
       "                                                      'senior_citizen',\n",
       "                                                      'partner', 'dependents',\n",
       "                                                      'multiple_lines'],\n",
       "                                    feateng_steps=1, max_gb=1, n_jobs=-1,\n",
       "                                    transformations=['log', 'abs', 'sqrt', '1+',\n",
       "                                                     'exp-'])),\n",
       "                ('model', LogisticRegression(C=0.2))])"
      ]
     },
     "execution_count": 23,
     "metadata": {},
     "output_type": "execute_result"
    }
   ],
   "source": [
    "from sklearn.linear_model import LogisticRegression\n",
    "\n",
    "model = LogisticRegression(penalty='l2',C=0.2)\n",
    "pipline = Pipeline([\n",
    "            ('preprocessor', afc),\n",
    "            ('model', model)\n",
    "        ]\n",
    "    )\n",
    "pipline.fit(X_train[features], y_train)"
   ]
  },
  {
   "cell_type": "code",
   "execution_count": 24,
   "metadata": {},
   "outputs": [],
   "source": [
    "prediction = pipline.predict(X_test[features])\n",
    "probas = pipline.predict_proba(X_test[features])"
   ]
  },
  {
   "cell_type": "code",
   "execution_count": 26,
   "metadata": {},
   "outputs": [
    {
     "name": "stdout",
     "output_type": "stream",
     "text": [
      "{'err1': 0.11000709723207949, 'err2': 0.24414478353442157, 'auc': 0.7385548401699141, 'precision': 0.6893787575150301, 'recall': 0.5165165165165165, 'f1': 0.590557939914163, 'logloss': 12.202145256642215}\n"
     ]
    }
   ],
   "source": [
    "from sklearn.metrics import f1_score,roc_auc_score,recall_score,confusion_matrix,log_loss,precision_score\n",
    "\n",
    "# заведите словарь со всеми метриками\n",
    "metrics = {}\n",
    "\n",
    "# посчитайте метрики из модуля sklearn.metrics\n",
    "# err_1 — ошибка первого рода\n",
    "# err_2 — ошибка второго рода\n",
    "_, err1, _, err2 = confusion_matrix(y_test,prediction,normalize='all').ravel()\n",
    "auc = roc_auc_score(y_test,probas[:,1])\n",
    "precision = precision_score(y_test,prediction)\n",
    "recall = recall_score(y_test,prediction)\n",
    "f1 = f1_score(y_test,prediction)\n",
    "logloss = log_loss(y_test,prediction)\n",
    "\n",
    "# запишите значения метрик в словарь\n",
    "metrics[\"err1\"] = err1\n",
    "metrics[\"err2\"] = err2\n",
    "metrics[\"auc\"] = auc\n",
    "metrics[\"precision\"] = precision\n",
    "metrics[\"recall\"] = recall\n",
    "metrics[\"f1\"] = f1\n",
    "metrics[\"logloss\"] = logloss\n",
    "\n",
    "print(metrics)"
   ]
  },
  {
   "cell_type": "code",
   "execution_count": 28,
   "metadata": {},
   "outputs": [
    {
     "name": "stderr",
     "output_type": "stream",
     "text": [
      "/home/mle-user/mle_projects/mle-mlflow/.venv_mlflow/lib/python3.10/site-packages/mlflow/models/signature.py:212: UserWarning: Hint: Inferred schema contains integer column(s). Integer columns in Python cannot represent missing values. If your input data contains missing values at inference time, it will be encoded as floats and will cause a schema enforcement error. The best way to avoid this problem is to infer the model schema based on a realistic data sample (training dataset) that includes missing values. Alternatively, you can declare integer columns as doubles (float64) whenever these columns may have missing values. See `Handling Integers With Missing Values <https://www.mlflow.org/docs/latest/models.html#handling-integers-with-missing-values>`_ for more details.\n",
      "  inputs = _infer_schema(model_input) if model_input is not None else None\n",
      "Successfully registered model 'churn_model_ujhmaster_autofeat'.\n",
      "2024/09/10 12:39:56 INFO mlflow.tracking._model_registry.client: Waiting up to 60 seconds for model version to finish creation. Model name: churn_model_ujhmaster_autofeat, version 1\n",
      "Created version '1' of model 'churn_model_ujhmaster_autofeat'.\n"
     ]
    },
    {
     "data": {
      "text/plain": [
       "'a3f323b2f779478fb14a5376a0906722'"
      ]
     },
     "execution_count": 28,
     "metadata": {},
     "output_type": "execute_result"
    }
   ],
   "source": [
    "pip_requirements = \"./requirements.txt\"\n",
    "metadata = {'model_type': 'monthly'}\n",
    "input_example = X_test[features][:10]\n",
    "signature = mlflow.models.infer_signature(X_test[features], prediction)\n",
    "\n",
    "with mlflow.start_run(run_name=RUN_NAME, experiment_id=experiment_id) as run:\n",
    "    # получаем уникальный идентификатор запуска эксперимента\n",
    "    run_id = run.info.run_id\n",
    "    \n",
    "    # логируем метрики эксперимента\n",
    "    mlflow.log_metrics(metrics)\n",
    "    \n",
    "    # логируем модель\n",
    "    model_info = mlflow.sklearn.log_model( \n",
    "            sk_model=pipline, \n",
    "\t\t\tpip_requirements=pip_requirements,\n",
    "            signature=signature, \n",
    "            metadata=metadata,\n",
    "            input_example=input_example, \n",
    "            artifact_path='models', \n",
    "            registered_model_name=REGISTRY_MODEL_NAME,\n",
    "            await_registration_for=60\n",
    "\t\t)\n",
    "\n",
    "\n",
    "experiment = mlflow.get_experiment_by_name(EXPERIMENT_NAME)\n",
    "# получаем данные о запуске эксперимента по его уникальному идентификатору\n",
    "run = mlflow.get_run(run_id)\n",
    "\n",
    "\n",
    "# проверяем, что статус запуска эксперимента изменён на 'FINISHED'\n",
    "# это утверждение (assert) можно использовать для автоматической проверки того, \n",
    "# что эксперимент был завершён успешно\n",
    "assert 'FINISHED' == run.info.status\n",
    "\n",
    "run_id"
   ]
  }
 ],
 "metadata": {
  "kernelspec": {
   "display_name": ".venv_mlflow",
   "language": "python",
   "name": "python3"
  },
  "language_info": {
   "codemirror_mode": {
    "name": "ipython",
    "version": 3
   },
   "file_extension": ".py",
   "mimetype": "text/x-python",
   "name": "python",
   "nbconvert_exporter": "python",
   "pygments_lexer": "ipython3",
   "version": "3.10.12"
  }
 },
 "nbformat": 4,
 "nbformat_minor": 2
}
