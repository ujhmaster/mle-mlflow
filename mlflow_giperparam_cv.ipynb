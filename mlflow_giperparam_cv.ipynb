{
 "cells": [
  {
   "cell_type": "code",
   "execution_count": 1,
   "metadata": {},
   "outputs": [],
   "source": [
    "import os\n",
    "\n",
    "import pandas as pd\n",
    "import mlflow\n",
    "from sklearn.compose import ColumnTransformer\n",
    "from sklearn.pipeline import Pipeline\n",
    "from sklearn.preprocessing import (\n",
    "    OneHotEncoder, \n",
    "    SplineTransformer, \n",
    "    QuantileTransformer, \n",
    "    RobustScaler,\n",
    "    PolynomialFeatures,\n",
    "    KBinsDiscretizer,\n",
    ")"
   ]
  },
  {
   "cell_type": "code",
   "execution_count": 3,
   "metadata": {},
   "outputs": [],
   "source": [
    "import numpy as np\n",
    "from dotenv import load_dotenv\n",
    "import psycopg2 as psycopg\n",
    "load_dotenv()\n",
    "\n",
    "connection = {\"sslmode\": \"require\", \"target_session_attrs\": \"read-write\"}\n",
    "postgres_credentials = {\n",
    "    \"host\": os.environ.get(\"DB_DESTINATION_HOST\"), \n",
    "    \"port\": os.environ.get(\"DB_DESTINATION_PORT\"),\n",
    "    \"dbname\": os.environ.get(\"DB_DESTINATION_NAME\"),\n",
    "    \"user\": os.environ.get(\"DB_DESTINATION_USER\"),\n",
    "    \"password\": os.environ.get(\"DB_DESTINATION_PASSWORD\"),\n",
    "}\n",
    "assert all([var_value != \"\" for var_value in list(postgres_credentials.values())])\n",
    "\n",
    "connection.update(postgres_credentials)\n",
    "\n",
    "# определим название таблицы, в которой хранятся наши данные.\n",
    "TABLE_NAME = \"clean_users_churn\"\n",
    "\n",
    "# эта конструкция создаёт контекстное управление для соединения с базой данных \n",
    "# оператор with гарантирует, что соединение будет корректно закрыто после выполнения всех операций \n",
    "# закрыто оно будет даже в случае ошибки, чтобы не допустить \"утечку памяти\"\n",
    "with psycopg.connect(**connection) as conn:\n",
    "\n",
    "    # создаёт объект курсора для выполнения запросов к базе данных\n",
    "    # с помощью метода execute() выполняется SQL-запрос для выборки данных из таблицы TABLE_NAME\n",
    "    with conn.cursor() as cur:\n",
    "        cur.execute(f\"SELECT * FROM {TABLE_NAME}\")\n",
    "                \n",
    "        # извлекаем все строки, полученные в результате выполнения запроса\n",
    "        data = cur.fetchall()\n",
    "\n",
    "        # получает список имён столбцов из объекта курсора\n",
    "        columns = [col[0] for col in cur.description]\n",
    "\n",
    "# создаёт объект DataFrame из полученных данных и имён столбцов. \n",
    "# это позволяет удобно работать с данными в Python, используя библиотеку Pandas.\n",
    "df = pd.DataFrame(data, columns=columns)"
   ]
  },
  {
   "cell_type": "code",
   "execution_count": 6,
   "metadata": {},
   "outputs": [],
   "source": [
    "from sklearn.compose import ColumnTransformer\n",
    "from sklearn.pipeline import Pipeline\n",
    "from sklearn.linear_model import LogisticRegression\n",
    "from category_encoders import CatBoostEncoder\n",
    "from sklearn.preprocessing import StandardScaler, OneHotEncoder\n",
    "from catboost import CatBoostClassifier\n",
    "from sklearn.metrics import f1_score,roc_auc_score,recall_score,confusion_matrix,log_loss,precision_score\n",
    "from sklearn.model_selection import train_test_split"
   ]
  },
  {
   "cell_type": "code",
   "execution_count": 24,
   "metadata": {},
   "outputs": [],
   "source": [
    "os.environ['MLFLOW_S3_ENDPOINT_URL']='https://storage.yandexcloud.net'\n",
    "os.environ['AWS_BUCKET_NAME']=os.environ.get(\"S3_BUCKET_NAME\")\n",
    "\n",
    "TRACKING_SERVER_HOST = \"127.0.0.1\"\n",
    "TRACKING_SERVER_PORT = 5000\n",
    "mlflow.set_tracking_uri(f\"http://{TRACKING_SERVER_HOST}:{TRACKING_SERVER_PORT}\")\n",
    "mlflow.set_registry_uri(f\"http://{TRACKING_SERVER_HOST}:{TRACKING_SERVER_PORT}\")"
   ]
  },
  {
   "cell_type": "code",
   "execution_count": 8,
   "metadata": {},
   "outputs": [],
   "source": [
    "features = [\"monthly_charges\", \"total_charges\", \"senior_citizen\"]\n",
    "target = \"target\"\n",
    "\n",
    "split_column = 'begin_date'\n",
    "stratify_column = target\n",
    "test_size = 0.2\n",
    "\n",
    "df = df.sort_values(by=[split_column])\n",
    "\n",
    "X_train, X_test, y_train, y_test = train_test_split(\n",
    "    df[features], \n",
    "    df[target], \n",
    "    test_size=test_size, \n",
    "    shuffle=False)"
   ]
  },
  {
   "cell_type": "code",
   "execution_count": 9,
   "metadata": {},
   "outputs": [],
   "source": [
    "cat_features = [\"senior_citizen\"]\n",
    "num_features = [\"monthly_charges\", \"total_charges\"]"
   ]
  },
  {
   "cell_type": "code",
   "execution_count": 12,
   "metadata": {},
   "outputs": [],
   "source": [
    "from autofeat import AutoFeatClassifier\n",
    "\n",
    "transformations = [\"1/\",\"log\", \"abs\", \"sqrt\",\"^2\"]\n",
    "\n",
    "afc = AutoFeatClassifier(\n",
    "    categorical_cols = cat_features,\n",
    "    feateng_cols = num_features,\n",
    "    feateng_steps=2,\n",
    "    max_gb=1,\n",
    "    transformations = transformations,\n",
    "    n_jobs=-1\n",
    ")\n",
    "\n",
    "X_train_features = afc.fit_transform(X_train,y_train)\n",
    "X_test_features = afc.transform(X_test)"
   ]
  },
  {
   "cell_type": "code",
   "execution_count": 13,
   "metadata": {},
   "outputs": [
    {
     "data": {
      "text/html": [
       "<div>\n",
       "<style scoped>\n",
       "    .dataframe tbody tr th:only-of-type {\n",
       "        vertical-align: middle;\n",
       "    }\n",
       "\n",
       "    .dataframe tbody tr th {\n",
       "        vertical-align: top;\n",
       "    }\n",
       "\n",
       "    .dataframe thead th {\n",
       "        text-align: right;\n",
       "    }\n",
       "</style>\n",
       "<table border=\"1\" class=\"dataframe\">\n",
       "  <thead>\n",
       "    <tr style=\"text-align: right;\">\n",
       "      <th></th>\n",
       "      <th>monthly_charges</th>\n",
       "      <th>total_charges</th>\n",
       "      <th>cat_senior_citizen_0.0</th>\n",
       "      <th>cat_senior_citizen_1.0</th>\n",
       "      <th>monthly_charges**2/total_charges</th>\n",
       "    </tr>\n",
       "  </thead>\n",
       "  <tbody>\n",
       "    <tr>\n",
       "      <th>0</th>\n",
       "      <td>117.80</td>\n",
       "      <td>8684.80</td>\n",
       "      <td>1.0</td>\n",
       "      <td>0.0</td>\n",
       "      <td>1.597831</td>\n",
       "    </tr>\n",
       "    <tr>\n",
       "      <th>1</th>\n",
       "      <td>104.15</td>\n",
       "      <td>7689.95</td>\n",
       "      <td>0.0</td>\n",
       "      <td>1.0</td>\n",
       "      <td>1.410571</td>\n",
       "    </tr>\n",
       "    <tr>\n",
       "      <th>2</th>\n",
       "      <td>92.45</td>\n",
       "      <td>6440.25</td>\n",
       "      <td>0.0</td>\n",
       "      <td>1.0</td>\n",
       "      <td>1.327123</td>\n",
       "    </tr>\n",
       "    <tr>\n",
       "      <th>3</th>\n",
       "      <td>108.05</td>\n",
       "      <td>7532.15</td>\n",
       "      <td>1.0</td>\n",
       "      <td>0.0</td>\n",
       "      <td>1.549996</td>\n",
       "    </tr>\n",
       "    <tr>\n",
       "      <th>4</th>\n",
       "      <td>108.60</td>\n",
       "      <td>7690.90</td>\n",
       "      <td>1.0</td>\n",
       "      <td>0.0</td>\n",
       "      <td>1.533495</td>\n",
       "    </tr>\n",
       "    <tr>\n",
       "      <th>...</th>\n",
       "      <td>...</td>\n",
       "      <td>...</td>\n",
       "      <td>...</td>\n",
       "      <td>...</td>\n",
       "      <td>...</td>\n",
       "    </tr>\n",
       "    <tr>\n",
       "      <th>5629</th>\n",
       "      <td>75.15</td>\n",
       "      <td>525.00</td>\n",
       "      <td>1.0</td>\n",
       "      <td>0.0</td>\n",
       "      <td>10.757186</td>\n",
       "    </tr>\n",
       "    <tr>\n",
       "      <th>5630</th>\n",
       "      <td>76.05</td>\n",
       "      <td>231.80</td>\n",
       "      <td>0.0</td>\n",
       "      <td>1.0</td>\n",
       "      <td>24.950830</td>\n",
       "    </tr>\n",
       "    <tr>\n",
       "      <th>5631</th>\n",
       "      <td>69.05</td>\n",
       "      <td>318.50</td>\n",
       "      <td>0.0</td>\n",
       "      <td>1.0</td>\n",
       "      <td>14.969867</td>\n",
       "    </tr>\n",
       "    <tr>\n",
       "      <th>5632</th>\n",
       "      <td>25.90</td>\n",
       "      <td>135.00</td>\n",
       "      <td>1.0</td>\n",
       "      <td>0.0</td>\n",
       "      <td>4.968963</td>\n",
       "    </tr>\n",
       "    <tr>\n",
       "      <th>5633</th>\n",
       "      <td>45.75</td>\n",
       "      <td>344.20</td>\n",
       "      <td>0.0</td>\n",
       "      <td>1.0</td>\n",
       "      <td>6.080949</td>\n",
       "    </tr>\n",
       "  </tbody>\n",
       "</table>\n",
       "<p>5634 rows × 5 columns</p>\n",
       "</div>"
      ],
      "text/plain": [
       "      monthly_charges  total_charges  cat_senior_citizen_0.0   \n",
       "0              117.80        8684.80                     1.0  \\\n",
       "1              104.15        7689.95                     0.0   \n",
       "2               92.45        6440.25                     0.0   \n",
       "3              108.05        7532.15                     1.0   \n",
       "4              108.60        7690.90                     1.0   \n",
       "...               ...            ...                     ...   \n",
       "5629            75.15         525.00                     1.0   \n",
       "5630            76.05         231.80                     0.0   \n",
       "5631            69.05         318.50                     0.0   \n",
       "5632            25.90         135.00                     1.0   \n",
       "5633            45.75         344.20                     0.0   \n",
       "\n",
       "      cat_senior_citizen_1.0  monthly_charges**2/total_charges  \n",
       "0                        0.0                          1.597831  \n",
       "1                        1.0                          1.410571  \n",
       "2                        1.0                          1.327123  \n",
       "3                        0.0                          1.549996  \n",
       "4                        0.0                          1.533495  \n",
       "...                      ...                               ...  \n",
       "5629                     0.0                         10.757186  \n",
       "5630                     1.0                         24.950830  \n",
       "5631                     1.0                         14.969867  \n",
       "5632                     0.0                          4.968963  \n",
       "5633                     1.0                          6.080949  \n",
       "\n",
       "[5634 rows x 5 columns]"
      ]
     },
     "execution_count": 13,
     "metadata": {},
     "output_type": "execute_result"
    }
   ],
   "source": [
    "X_train_features"
   ]
  },
  {
   "cell_type": "code",
   "execution_count": 14,
   "metadata": {},
   "outputs": [],
   "source": [
    "from sklearn.preprocessing import StandardScaler"
   ]
  },
  {
   "cell_type": "code",
   "execution_count": 15,
   "metadata": {},
   "outputs": [
    {
     "data": {
      "text/plain": [
       "array([[ 1.64692241,  2.63056585,  0.44835615, -0.44835615, -0.36964437],\n",
       "       [ 1.19808034,  2.18456065, -2.23036977,  2.23036977, -0.43093812],\n",
       "       [ 0.81335857,  1.62430261, -2.23036977,  2.23036977, -0.45825248],\n",
       "       ...,\n",
       "       [ 0.04391502, -1.12016374, -2.23036977,  2.23036977,  4.0072904 ],\n",
       "       [-1.37495204, -1.20242936,  0.44835615, -0.44835615,  0.73379464],\n",
       "       [-0.72224031, -1.10864207, -2.23036977,  2.23036977,  1.09776977]])"
      ]
     },
     "execution_count": 15,
     "metadata": {},
     "output_type": "execute_result"
    }
   ],
   "source": [
    "scaler = StandardScaler()\n",
    "X_train_scaled = scaler.fit_transform(X_train_features)\n",
    "X_test_scaled = scaler.transform(X_test_features)\n",
    "\n",
    "X_train_scaled"
   ]
  },
  {
   "cell_type": "code",
   "execution_count": 17,
   "metadata": {},
   "outputs": [
    {
     "name": "stdout",
     "output_type": "stream",
     "text": [
      "Размер выборки для обучения: (5634, 5)\n",
      "Размер выборки для теста: (1409, 5)\n"
     ]
    }
   ],
   "source": [
    "print(f\"Размер выборки для обучения: {X_train_scaled.shape}\")\n",
    "print(f\"Размер выборки для теста: {X_test_scaled.shape}\")"
   ]
  },
  {
   "cell_type": "code",
   "execution_count": 18,
   "metadata": {},
   "outputs": [],
   "source": [
    "from sklearn.model_selection import GridSearchCV"
   ]
  },
  {
   "cell_type": "code",
   "execution_count": 20,
   "metadata": {},
   "outputs": [
    {
     "data": {
      "text/plain": [
       "<catboost.core.CatBoostClassifier at 0x7fca3275cd30>"
      ]
     },
     "execution_count": 20,
     "metadata": {},
     "output_type": "execute_result"
    }
   ],
   "source": [
    "EXPERIMENT_NAME = 'Grid_search'\n",
    "RUN_NAME = 'model_grid_search' # ваш код здесь\n",
    "REGISTRY_MODEL_NAME = 'linearregression_gscv'\n",
    "\n",
    "loss_function = \"Logloss\"\n",
    "task_type = 'CPU'\n",
    "random_seed = 0\n",
    "iterations = 300\n",
    "verbose = False\n",
    "\n",
    "params = {\n",
    "    'depth': [3, 4, 5, 6, 7],\n",
    "    'learning_rate': [0.01, 0.1, 0.9],\n",
    "    'iterations': [1, 2, 3],\n",
    "    'l2_leaf_reg': [1, 5, 10, 15, 20],\n",
    "} \n",
    "\n",
    "model = CatBoostClassifier(\n",
    "    loss_function = loss_function,\n",
    "    task_type = task_type ,\n",
    "    random_seed = random_seed,\n",
    "    iterations = iterations,\n",
    "    verbose = verbose\n",
    "    )\n",
    "\n",
    "cv = GridSearchCV(\n",
    "    estimator=model,\n",
    "    cv=2,\n",
    "    scoring='accuracy',\n",
    "    n_jobs=-1,\n",
    "    param_grid=params\n",
    ")\n",
    "\n",
    "clf = cv.fit(X_train_scaled,y_train)\n",
    "\n",
    "cv_results = pd.DataFrame(clf.cv_results_)\n",
    "\n",
    "best_params = clf.best_params_\n",
    "\n",
    "model_best = clf.best_estimator_\n",
    "\n",
    "model_best.fit(X_train_scaled, y_train)"
   ]
  },
  {
   "cell_type": "code",
   "execution_count": 27,
   "metadata": {},
   "outputs": [
    {
     "name": "stderr",
     "output_type": "stream",
     "text": [
      "/home/mle-user/mle_projects/mle-mlflow/.venv_mlflow/lib/python3.10/site-packages/mlflow/models/signature.py:212: UserWarning: Hint: Inferred schema contains integer column(s). Integer columns in Python cannot represent missing values. If your input data contains missing values at inference time, it will be encoded as floats and will cause a schema enforcement error. The best way to avoid this problem is to infer the model schema based on a realistic data sample (training dataset) that includes missing values. Alternatively, you can declare integer columns as doubles (float64) whenever these columns may have missing values. See `Handling Integers With Missing Values <https://www.mlflow.org/docs/latest/models.html#handling-integers-with-missing-values>`_ for more details.\n",
      "  inputs = _infer_schema(model_input) if model_input is not None else None\n"
     ]
    },
    {
     "data": {
      "text/plain": [
       "{'err1': 0.36621717530163234,\n",
       " 'err2': 0.45564229950319374,\n",
       " 'auc': 0.7028098084625676,\n",
       " 'precision': 0.5544041450777202,\n",
       " 'recall': 0.963963963963964,\n",
       " 'f1': 0.7039473684210527,\n",
       " 'logloss': 13.813749347142128,\n",
       " 'mean_fit_time': 0.0642505168914795,\n",
       " 'std_fit_time': 0.015160491731431748,\n",
       " 'mean_test_score': 0.6605190707214138,\n",
       " 'std_test_score': 0.12627381374985208,\n",
       " 'best_score': 0.6879659211927582}"
      ]
     },
     "execution_count": 27,
     "metadata": {},
     "output_type": "execute_result"
    }
   ],
   "source": [
    "\n",
    "\n",
    "prediction = model_best.predict(X_test_scaled)\n",
    "probas = model_best.predict_proba(X_test_scaled)[:, 1]\n",
    "\n",
    "# расчёт метрик качества\n",
    "metrics = {}\n",
    "\n",
    "_, err1, _, err2 = confusion_matrix(y_test,prediction,normalize='all').ravel()\n",
    "auc = roc_auc_score(y_test, probas)\n",
    "precision =  precision_score(y_test,prediction)\n",
    "recall = recall_score(y_test,prediction)\n",
    "f1 = f1_score(y_test,prediction)\n",
    "logloss = log_loss(y_test,prediction)\n",
    "\n",
    "# сохранение метрик в словарь\n",
    "metrics[\"err1\"] = err1\n",
    "metrics[\"err2\"] = err2\n",
    "metrics[\"auc\"] = auc\n",
    "metrics[\"precision\"] = precision\n",
    "metrics[\"recall\"] = recall\n",
    "metrics[\"f1\"] = f1\n",
    "metrics[\"logloss\"] = logloss\n",
    "\n",
    "# дополнительные метрики из результатов кросс-валидации\n",
    "metrics['mean_fit_time'] = cv_results['mean_fit_time'].mean()\n",
    "metrics['std_fit_time'] = cv_results['std_fit_time'].mean()\n",
    "metrics[\"mean_test_score\"] = cv_results['mean_test_score'].mean()\n",
    "metrics['std_test_score'] = cv_results['std_test_score'].mean()\n",
    "metrics['best_score'] = clf.best_score_\n",
    "\n",
    "# настройки для логирования в MLFlow\n",
    "pip_requirements = './requirements.txt'\n",
    "signature = mlflow.models.infer_signature(X_test, prediction)\n",
    "input_example = X_test[:10]\n",
    "\n",
    "metrics"
   ]
  },
  {
   "cell_type": "code",
   "execution_count": 28,
   "metadata": {},
   "outputs": [
    {
     "name": "stderr",
     "output_type": "stream",
     "text": [
      "Successfully registered model 'linearregression_gscv'.\n",
      "2024/09/11 14:55:08 INFO mlflow.tracking._model_registry.client: Waiting up to 60 seconds for model version to finish creation. Model name: linearregression_gscv, version 1\n",
      "Created version '1' of model 'linearregression_gscv'.\n"
     ]
    },
    {
     "data": {
      "text/plain": [
       "'2c685ded47ad4f17820d3ea045e2c045'"
      ]
     },
     "execution_count": 28,
     "metadata": {},
     "output_type": "execute_result"
    }
   ],
   "source": [
    "#experiment_id = mlflow.create_experiment(EXPERIMENT_NAME)\n",
    "experiment_id = mlflow.get_experiment_by_name(EXPERIMENT_NAME).experiment_id\n",
    "\n",
    "with mlflow.start_run(run_name=RUN_NAME, experiment_id=experiment_id) as run:\n",
    "    run_id = run.info.run_id\n",
    "    \n",
    "    # логируем метрики эксперимента\n",
    "    mlflow.log_metrics(metrics)\n",
    "    mlflow.log_params(best_params)\n",
    "    # логируем модель\n",
    "    cv_info = mlflow.sklearn.log_model(cv, artifact_path='cv')\n",
    "    model_info = mlflow.catboost.log_model( \n",
    "            cb_model=model_best, \n",
    "\t\t\tsignature=signature, \n",
    "            input_example=input_example, \n",
    "            artifact_path='models', \n",
    "            registered_model_name=REGISTRY_MODEL_NAME,\n",
    "            await_registration_for=60,\n",
    "            pip_requirements=pip_requirements)\n",
    "    \n",
    "run_id"
   ]
  },
  {
   "cell_type": "code",
   "execution_count": 29,
   "metadata": {},
   "outputs": [
    {
     "name": "stderr",
     "output_type": "stream",
     "text": [
      "/home/mle-user/mle_projects/mle-mlflow/.venv_mlflow/lib/python3.10/site-packages/mlflow/models/signature.py:212: UserWarning: Hint: Inferred schema contains integer column(s). Integer columns in Python cannot represent missing values. If your input data contains missing values at inference time, it will be encoded as floats and will cause a schema enforcement error. The best way to avoid this problem is to infer the model schema based on a realistic data sample (training dataset) that includes missing values. Alternatively, you can declare integer columns as doubles (float64) whenever these columns may have missing values. See `Handling Integers With Missing Values <https://www.mlflow.org/docs/latest/models.html#handling-integers-with-missing-values>`_ for more details.\n",
      "  inputs = _infer_schema(model_input) if model_input is not None else None\n"
     ]
    },
    {
     "data": {
      "text/plain": [
       "{'err1': 0.36621717530163234,\n",
       " 'err2': 0.45564229950319374,\n",
       " 'auc': 0.7067686798507794,\n",
       " 'precision': 0.5544041450777202,\n",
       " 'recall': 0.963963963963964,\n",
       " 'f1': 0.7039473684210527,\n",
       " 'logloss': 13.813749347142128,\n",
       " 'mean_fit_time': 0.11650856137275696,\n",
       " 'std_fit_time': 0.002990823984146118,\n",
       " 'mean_test_score': 0.7399982250621229,\n",
       " 'std_test_score': 0.04674298899538518,\n",
       " 'best_score': 0.7868299609513667}"
      ]
     },
     "execution_count": 29,
     "metadata": {},
     "output_type": "execute_result"
    }
   ],
   "source": [
    "EXPERIMENT_NAME = 'Grid_search'\n",
    "RUN_NAME = 'model_randomized_search' # ваш код здесь\n",
    "REGISTRY_MODEL_NAME = 'linearregression_gscv'\n",
    "\n",
    "from sklearn.model_selection import RandomizedSearchCV\n",
    "\n",
    "param_distributions = {\n",
    "    'depth': [3, 4, 5, 6, 7],\n",
    "    'learning_rate': [0.01, 0.1, 0.9],\n",
    "    'iterations': [1, 2, 3],\n",
    "    'l2_leaf_reg': [1, 5, 10, 15, 20],\n",
    "} \n",
    "\n",
    "model = CatBoostClassifier(\n",
    "    loss_function = loss_function,\n",
    "    task_type = task_type ,\n",
    "    random_seed = random_seed,\n",
    "    iterations = iterations,\n",
    "    verbose = verbose\n",
    "    )\n",
    "\n",
    "cv = RandomizedSearchCV(\n",
    "    estimator=model,\n",
    "    cv=2,\n",
    "    n_iter=20,\n",
    "    scoring='accuracy',\n",
    "    n_jobs=-1,\n",
    "    param_distributions=param_distributions\n",
    ")\n",
    "\n",
    "clf = cv.fit(X_train,y_train)\n",
    "cv_results = pd.DataFrame(clf.cv_results_)\n",
    "\n",
    "best_params = clf.best_params_\n",
    "\n",
    "model_best = clf.best_estimator_\n",
    "\n",
    "model_best.fit(X_train_scaled, y_train)\n",
    "\n",
    "rediction = model_best.predict(X_test_scaled)\n",
    "probas = model_best.predict_proba(X_test_scaled)[:, 1]\n",
    "\n",
    "# расчёт метрик качества\n",
    "metrics = {}\n",
    "\n",
    "_, err1, _, err2 = confusion_matrix(y_test,prediction,normalize='all').ravel()\n",
    "auc = roc_auc_score(y_test, probas)\n",
    "precision =  precision_score(y_test,prediction)\n",
    "recall = recall_score(y_test,prediction)\n",
    "f1 = f1_score(y_test,prediction)\n",
    "logloss = log_loss(y_test,prediction)\n",
    "\n",
    "# сохранение метрик в словарь\n",
    "metrics[\"err1\"] = err1\n",
    "metrics[\"err2\"] = err2\n",
    "metrics[\"auc\"] = auc\n",
    "metrics[\"precision\"] = precision\n",
    "metrics[\"recall\"] = recall\n",
    "metrics[\"f1\"] = f1\n",
    "metrics[\"logloss\"] = logloss\n",
    "\n",
    "# дополнительные метрики из результатов кросс-валидации\n",
    "metrics['mean_fit_time'] = cv_results['mean_fit_time'].mean()\n",
    "metrics['std_fit_time'] = cv_results['std_fit_time'].mean()\n",
    "metrics[\"mean_test_score\"] = cv_results['mean_test_score'].mean()\n",
    "metrics['std_test_score'] = cv_results['std_test_score'].mean()\n",
    "metrics['best_score'] = clf.best_score_\n",
    "\n",
    "# настройки для логирования в MLFlow\n",
    "pip_requirements = './requirements.txt'\n",
    "signature = mlflow.models.infer_signature(X_test_scaled, prediction)\n",
    "input_example = X_test[:10]\n",
    "\n",
    "metrics"
   ]
  },
  {
   "cell_type": "code",
   "execution_count": 30,
   "metadata": {},
   "outputs": [
    {
     "name": "stderr",
     "output_type": "stream",
     "text": [
      "Registered model 'linearregression_gscv' already exists. Creating a new version of this model...\n",
      "2024/09/11 15:02:52 INFO mlflow.tracking._model_registry.client: Waiting up to 60 seconds for model version to finish creation. Model name: linearregression_gscv, version 2\n",
      "Created version '2' of model 'linearregression_gscv'.\n"
     ]
    },
    {
     "data": {
      "text/plain": [
       "'5a2f1e7706394c3796f0edd7038aa1e3'"
      ]
     },
     "execution_count": 30,
     "metadata": {},
     "output_type": "execute_result"
    }
   ],
   "source": [
    "experiment_id = mlflow.get_experiment_by_name(EXPERIMENT_NAME).experiment_id\n",
    "\n",
    "with mlflow.start_run(run_name=RUN_NAME, experiment_id=experiment_id) as run:\n",
    "    run_id = run.info.run_id\n",
    "    \n",
    "    # логируем метрики эксперимента\n",
    "    mlflow.log_metrics(metrics)\n",
    "    mlflow.log_params(best_params)\n",
    "    # логируем модель\n",
    "    cv_info = mlflow.sklearn.log_model(cv, artifact_path='cv')\n",
    "    model_info = mlflow.catboost.log_model( \n",
    "            cb_model=model_best, \n",
    "\t\t\tsignature=signature, \n",
    "            input_example=input_example, \n",
    "            artifact_path='models', \n",
    "            registered_model_name=REGISTRY_MODEL_NAME,\n",
    "            await_registration_for=60,\n",
    "            pip_requirements=pip_requirements)\n",
    "    \n",
    "run_id"
   ]
  }
 ],
 "metadata": {
  "kernelspec": {
   "display_name": ".venv_mlflow",
   "language": "python",
   "name": "python3"
  },
  "language_info": {
   "codemirror_mode": {
    "name": "ipython",
    "version": 3
   },
   "file_extension": ".py",
   "mimetype": "text/x-python",
   "name": "python",
   "nbconvert_exporter": "python",
   "pygments_lexer": "ipython3",
   "version": "3.10.12"
  }
 },
 "nbformat": 4,
 "nbformat_minor": 2
}
